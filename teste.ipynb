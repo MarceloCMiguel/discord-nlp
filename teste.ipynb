{
 "cells": [
  {
   "cell_type": "code",
   "execution_count": 2,
   "metadata": {},
   "outputs": [
    {
     "data": {
      "text/plain": [
       "True"
      ]
     },
     "execution_count": 2,
     "metadata": {},
     "output_type": "execute_result"
    }
   ],
   "source": [
    "import os\n",
    "import dotenv\n",
    "import requests\n",
    "dotenv.load_dotenv()"
   ]
  },
  {
   "cell_type": "code",
   "execution_count": 3,
   "metadata": {},
   "outputs": [
    {
     "name": "stdout",
     "output_type": "stream",
     "text": [
      "345ccf0a132b411ab75990eefe00c5d2\n"
     ]
    }
   ],
   "source": [
    "print(os.getenv('API_IP'))"
   ]
  },
  {
   "cell_type": "code",
   "execution_count": 4,
   "metadata": {},
   "outputs": [],
   "source": [
    "# get my ip\n",
    "ip = requests.get('https://api.ipify.org').text"
   ]
  },
  {
   "cell_type": "code",
   "execution_count": 5,
   "metadata": {},
   "outputs": [
    {
     "data": {
      "text/plain": [
       "'186.232.61.4'"
      ]
     },
     "execution_count": 5,
     "metadata": {},
     "output_type": "execute_result"
    }
   ],
   "source": [
    "ip"
   ]
  },
  {
   "cell_type": "code",
   "execution_count": 14,
   "metadata": {},
   "outputs": [],
   "source": [
    "api_ip = os.getenv('API_IP')\n",
    "response = requests.get('https://api.ipgeolocation.io/ipgeo', \n",
    "                        params=\n",
    "                        {'apiKey': api_ip,\n",
    "                         'ip': ip})"
   ]
  },
  {
   "cell_type": "code",
   "execution_count": 15,
   "metadata": {},
   "outputs": [
    {
     "data": {
      "text/plain": [
       "'{\"ip\":\"186.232.61.4\",\"continent_code\":\"SA\",\"continent_name\":\"South America\",\"country_code2\":\"BR\",\"country_code3\":\"BRA\",\"country_name\":\"Brazil\",\"country_capital\":\"Brasilia\",\"state_prov\":\"Sao Paulo\",\"district\":\"\",\"city\":\"Sao Paulo\",\"zipcode\":\"01310-100\",\"latitude\":\"-23.56287\",\"longitude\":\"-46.65468\",\"is_eu\":false,\"calling_code\":\"+55\",\"country_tld\":\".br\",\"languages\":\"pt-BR,es,en,fr\",\"country_flag\":\"https://ipgeolocation.io/static/flags/br_64.png\",\"geoname_id\":\"6472326\",\"isp\":\"Insper Instituto de Ensino e Pesquisa\",\"connection_type\":\"\",\"organization\":\"\",\"currency\":{\"code\":\"BRL\",\"name\":\"Brazilian Real\",\"symbol\":\"R$\"},\"time_zone\":{\"name\":\"America/Sao_Paulo\",\"offset\":-3,\"current_time\":\"2023-03-02 10:35:27.740-0300\",\"current_time_unix\":1677764127.74,\"is_dst\":false,\"dst_savings\":0}}'"
      ]
     },
     "execution_count": 15,
     "metadata": {},
     "output_type": "execute_result"
    }
   ],
   "source": [
    "response.text"
   ]
  },
  {
   "cell_type": "code",
   "execution_count": null,
   "metadata": {},
   "outputs": [],
   "source": []
  }
 ],
 "metadata": {
  "kernelspec": {
   "display_name": "Python 3",
   "language": "python",
   "name": "python3"
  },
  "language_info": {
   "codemirror_mode": {
    "name": "ipython",
    "version": 3
   },
   "file_extension": ".py",
   "mimetype": "text/x-python",
   "name": "python",
   "nbconvert_exporter": "python",
   "pygments_lexer": "ipython3",
   "version": "3.10.6"
  },
  "orig_nbformat": 4
 },
 "nbformat": 4,
 "nbformat_minor": 2
}
